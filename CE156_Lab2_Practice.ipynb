{
  "nbformat": 4,
  "nbformat_minor": 0,
  "metadata": {
    "colab": {
      "name": "CE156 Lab2 Practice.ipynb",
      "provenance": [],
      "authorship_tag": "ABX9TyOrC3/a9CGrj9TMHvyq7KV8",
      "include_colab_link": true
    },
    "kernelspec": {
      "name": "python3",
      "display_name": "Python 3"
    }
  },
  "cells": [
    {
      "cell_type": "markdown",
      "metadata": {
        "id": "view-in-github",
        "colab_type": "text"
      },
      "source": [
        "<a href=\"https://colab.research.google.com/github/Kanyinsola-O/CE888/blob/main/CE156_Lab2_Practice.ipynb\" target=\"_parent\"><img src=\"https://colab.research.google.com/assets/colab-badge.svg\" alt=\"Open In Colab\"/></a>"
      ]
    },
    {
      "cell_type": "code",
      "metadata": {
        "colab": {
          "base_uri": "https://localhost:8080/"
        },
        "id": "V-xvI4XCsnh6",
        "outputId": "236ced14-e333-4919-ce2d-2b6cb28d7654"
      },
      "source": [
        "#Exercise 1\r\n",
        "x=20\r\n",
        "y=40\r\n",
        "\r\n",
        "print(x>y)\r\n",
        "print(x<y)\r\n",
        "print (x==y)\r\n",
        "print(x!=y)\r\n",
        "print(x>=y)\r\n",
        "print(x<=y)"
      ],
      "execution_count": 9,
      "outputs": [
        {
          "output_type": "stream",
          "text": [
            "False\n",
            "True\n",
            "False\n",
            "True\n",
            "False\n",
            "True\n"
          ],
          "name": "stdout"
        }
      ]
    },
    {
      "cell_type": "code",
      "metadata": {
        "colab": {
          "base_uri": "https://localhost:8080/"
        },
        "id": "NquuNmUcx5un",
        "outputId": "9ed9c583-7b41-4059-d83e-eab89038301d"
      },
      "source": [
        "x=3\r\n",
        "y=4\r\n",
        "\r\n",
        "print(x<5 and x<10)\r\n",
        "print(x<3 and x<10)\r\n",
        "print(x<5 or x<10)\r\n",
        "print()"
      ],
      "execution_count": 10,
      "outputs": [
        {
          "output_type": "stream",
          "text": [
            "True\n"
          ],
          "name": "stdout"
        }
      ]
    },
    {
      "cell_type": "code",
      "metadata": {
        "id": "k98zV1kS0NZP"
      },
      "source": [
        "#Conversion Task \r\n",
        "\r\n",
        "#Covert EUR to GBP\r\n",
        " input = \r\n",
        "\r\n",
        "#Listed Items in EUR ?\r\n",
        "I1=100 EUR\r\n",
        "I2=200 EUR\r\n",
        "I3=300 EUR\r\n",
        "\r\n",
        "print(input \"What is the exchange rate today?\" )\r\n",
        "\r\n",
        "If I1 "
      ],
      "execution_count": null,
      "outputs": []
    },
    {
      "cell_type": "code",
      "metadata": {
        "colab": {
          "base_uri": "https://localhost:8080/",
          "height": 126
        },
        "id": "3_lfDgMY43nr",
        "outputId": "1361e599-cdde-47ab-b4d9-60d0057e68e8"
      },
      "source": [
        "x=10\r\n",
        "y=5\r\n",
        "if x == 10\r\n",
        " print (true) \r\n",
        "else \r\n",
        "if x != 10\r\n",
        " print(false) \r\n"
      ],
      "execution_count": 15,
      "outputs": [
        {
          "output_type": "error",
          "ename": "SyntaxError",
          "evalue": "ignored",
          "traceback": [
            "\u001b[0;36m  File \u001b[0;32m\"<ipython-input-15-fb85a9dc7929>\"\u001b[0;36m, line \u001b[0;32m3\u001b[0m\n\u001b[0;31m    if x == 10\u001b[0m\n\u001b[0m              ^\u001b[0m\n\u001b[0;31mSyntaxError\u001b[0m\u001b[0;31m:\u001b[0m invalid syntax\n"
          ]
        }
      ]
    }
  ]
}