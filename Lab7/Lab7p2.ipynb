{
  "nbformat": 4,
  "nbformat_minor": 0,
  "metadata": {
    "colab": {
      "name": "Lab7p2.ipynb",
      "provenance": [],
      "authorship_tag": "ABX9TyPfRFItdzmFTopB8g/adlld",
      "include_colab_link": true
    },
    "kernelspec": {
      "name": "python3",
      "display_name": "Python 3"
    },
    "language_info": {
      "name": "python"
    }
  },
  "cells": [
    {
      "cell_type": "markdown",
      "metadata": {
        "id": "view-in-github",
        "colab_type": "text"
      },
      "source": [
        "<a href=\"https://colab.research.google.com/github/Kanyinsola-O/CE888/blob/main/Lab7/Lab7p2.ipynb\" target=\"_parent\"><img src=\"https://colab.research.google.com/assets/colab-badge.svg\" alt=\"Open In Colab\"/></a>"
      ]
    },
    {
      "cell_type": "code",
      "metadata": {
        "id": "IkaYgcp__-LR"
      },
      "source": [
        "from keras import layers\n",
        "from keras import models"
      ],
      "execution_count": 1,
      "outputs": []
    },
    {
      "cell_type": "code",
      "metadata": {
        "colab": {
          "base_uri": "https://localhost:8080/"
        },
        "id": "x77TOJJvAz6f",
        "outputId": "b6fc2bf0-d10f-42fe-9ddd-b90084be14c8"
      },
      "source": [
        "model = models.Sequential()\n",
        "model.add(layers.Conv2D(32, (3, 3), activation='relu', input_shape=(28, 28, 1)))\n",
        "model.add(layers.MaxPooling2D((2, 2)))\n",
        "model.add(layers.Conv2D(64, (3, 3), activation='relu'))\n",
        "model.add(layers.MaxPooling2D((2, 2)))\n",
        "model.add(layers.Conv2D(64, (3, 3), activation='relu'))\n",
        "model.summary()"
      ],
      "execution_count": 2,
      "outputs": [
        {
          "output_type": "stream",
          "text": [
            "Model: \"sequential\"\n",
            "_________________________________________________________________\n",
            "Layer (type)                 Output Shape              Param #   \n",
            "=================================================================\n",
            "conv2d (Conv2D)              (None, 26, 26, 32)        320       \n",
            "_________________________________________________________________\n",
            "max_pooling2d (MaxPooling2D) (None, 13, 13, 32)        0         \n",
            "_________________________________________________________________\n",
            "conv2d_1 (Conv2D)            (None, 11, 11, 64)        18496     \n",
            "_________________________________________________________________\n",
            "max_pooling2d_1 (MaxPooling2 (None, 5, 5, 64)          0         \n",
            "_________________________________________________________________\n",
            "conv2d_2 (Conv2D)            (None, 3, 3, 64)          36928     \n",
            "=================================================================\n",
            "Total params: 55,744\n",
            "Trainable params: 55,744\n",
            "Non-trainable params: 0\n",
            "_________________________________________________________________\n"
          ],
          "name": "stdout"
        }
      ]
    },
    {
      "cell_type": "code",
      "metadata": {
        "colab": {
          "base_uri": "https://localhost:8080/"
        },
        "id": "omVcjmhGA8pg",
        "outputId": "eb9a1b5d-b7e3-4586-873c-e069a185fb44"
      },
      "source": [
        "model.add(layers.Flatten())\n",
        "model.add(layers.Dense(64, activation='relu'))\n",
        "model.add(layers.Dense(10, activation='softmax'))\n",
        "model.summary()"
      ],
      "execution_count": 3,
      "outputs": [
        {
          "output_type": "stream",
          "text": [
            "Model: \"sequential\"\n",
            "_________________________________________________________________\n",
            "Layer (type)                 Output Shape              Param #   \n",
            "=================================================================\n",
            "conv2d (Conv2D)              (None, 26, 26, 32)        320       \n",
            "_________________________________________________________________\n",
            "max_pooling2d (MaxPooling2D) (None, 13, 13, 32)        0         \n",
            "_________________________________________________________________\n",
            "conv2d_1 (Conv2D)            (None, 11, 11, 64)        18496     \n",
            "_________________________________________________________________\n",
            "max_pooling2d_1 (MaxPooling2 (None, 5, 5, 64)          0         \n",
            "_________________________________________________________________\n",
            "conv2d_2 (Conv2D)            (None, 3, 3, 64)          36928     \n",
            "_________________________________________________________________\n",
            "flatten (Flatten)            (None, 576)               0         \n",
            "_________________________________________________________________\n",
            "dense (Dense)                (None, 64)                36928     \n",
            "_________________________________________________________________\n",
            "dense_1 (Dense)              (None, 10)                650       \n",
            "=================================================================\n",
            "Total params: 93,322\n",
            "Trainable params: 93,322\n",
            "Non-trainable params: 0\n",
            "_________________________________________________________________\n"
          ],
          "name": "stdout"
        }
      ]
    },
    {
      "cell_type": "code",
      "metadata": {
        "id": "65jmKVVcA_Hz"
      },
      "source": [
        "from keras.datasets import mnist\n",
        "from keras.utils import to_categorical"
      ],
      "execution_count": 4,
      "outputs": []
    },
    {
      "cell_type": "code",
      "metadata": {
        "colab": {
          "base_uri": "https://localhost:8080/"
        },
        "id": "3pfZjXsOBF8Y",
        "outputId": "b8a7af23-057d-48d0-f318-97d706313d5f"
      },
      "source": [
        "(train_images, train_labels), (test_images, test_labels) = mnist.load_data()\n",
        "train_images = train_images.reshape((60000, 28, 28, 1))\n",
        "train_images = train_images.astype('float32') / 255\n",
        "test_images = test_images.reshape((10000, 28, 28, 1))\n",
        "test_images = test_images.astype('float32') / 255\n",
        "train_labels = to_categorical(train_labels)\n",
        "test_labels = to_categorical(test_labels)"
      ],
      "execution_count": 5,
      "outputs": [
        {
          "output_type": "stream",
          "text": [
            "Downloading data from https://storage.googleapis.com/tensorflow/tf-keras-datasets/mnist.npz\n",
            "11493376/11490434 [==============================] - 0s 0us/step\n"
          ],
          "name": "stdout"
        }
      ]
    },
    {
      "cell_type": "code",
      "metadata": {
        "colab": {
          "base_uri": "https://localhost:8080/"
        },
        "id": "5red_upqBKe6",
        "outputId": "3e852951-ff31-414d-c585-3647f9025b53"
      },
      "source": [
        "model.compile(optimizer='rmsprop', \n",
        "              loss='categorical_crossentropy',\n",
        "              metrics=['accuracy'])\n",
        "history = model.fit(train_images, train_labels, epochs=5, batch_size=64, validation_split=0.2)"
      ],
      "execution_count": 6,
      "outputs": [
        {
          "output_type": "stream",
          "text": [
            "Epoch 1/5\n",
            "750/750 [==============================] - 44s 58ms/step - loss: 0.4654 - accuracy: 0.8496 - val_loss: 0.0623 - val_accuracy: 0.9816\n",
            "Epoch 2/5\n",
            "750/750 [==============================] - 43s 57ms/step - loss: 0.0589 - accuracy: 0.9808 - val_loss: 0.0682 - val_accuracy: 0.9807\n",
            "Epoch 3/5\n",
            "750/750 [==============================] - 43s 58ms/step - loss: 0.0368 - accuracy: 0.9887 - val_loss: 0.0449 - val_accuracy: 0.9875\n",
            "Epoch 4/5\n",
            "750/750 [==============================] - 43s 57ms/step - loss: 0.0277 - accuracy: 0.9917 - val_loss: 0.0398 - val_accuracy: 0.9896\n",
            "Epoch 5/5\n",
            "750/750 [==============================] - 43s 57ms/step - loss: 0.0210 - accuracy: 0.9935 - val_loss: 0.0468 - val_accuracy: 0.9893\n"
          ],
          "name": "stdout"
        }
      ]
    },
    {
      "cell_type": "markdown",
      "metadata": {
        "id": "asp_rLRQBTo2"
      },
      "source": [
        "##Model Evaluation"
      ]
    },
    {
      "cell_type": "code",
      "metadata": {
        "colab": {
          "base_uri": "https://localhost:8080/"
        },
        "id": "Lp9pyxfaBRO0",
        "outputId": "1e9b0ab0-c376-4469-91bb-4214950e8960"
      },
      "source": [
        "test_loss, test_acc = model.evaluate(test_images, test_labels)\n",
        "test_acc"
      ],
      "execution_count": 7,
      "outputs": [
        {
          "output_type": "stream",
          "text": [
            "313/313 [==============================] - 3s 10ms/step - loss: 0.0304 - accuracy: 0.9906\n"
          ],
          "name": "stdout"
        },
        {
          "output_type": "execute_result",
          "data": {
            "text/plain": [
              "0.9905999898910522"
            ]
          },
          "metadata": {
            "tags": []
          },
          "execution_count": 7
        }
      ]
    },
    {
      "cell_type": "code",
      "metadata": {
        "id": "jDz16uHTBW5C"
      },
      "source": [
        "import matplotlib.pyplot as plt\n",
        "\n",
        "acc = history.history['acc']\n",
        "val_acc = history.history['val_acc']\n",
        "loss = history.history['loss']\n",
        "val_loss = history.history['val_loss']\n",
        "\n",
        "epochs = range(1, len(acc) + 1)\n",
        "\n",
        "plt.plot(epochs, acc, 'bo', label='Training acc')\n",
        "plt.plot(epochs, val_acc, 'b', label='Validation acc')\n",
        "plt.title('Training and validation accuracy')\n",
        "plt.legend()\n",
        "\n",
        "plt.figure()\n",
        "\n",
        "plt.plot(epochs, loss, 'bo', label='Training loss')\n",
        "plt.plot(epochs, val_loss, 'b', label='Validation loss')\n",
        "plt.title('Training and validation loss')\n",
        "plt.legend()\n",
        "\n",
        "plt.show()"
      ],
      "execution_count": null,
      "outputs": []
    },
    {
      "cell_type": "markdown",
      "metadata": {
        "id": "BLU_UBP9BfDa"
      },
      "source": [
        "##T1"
      ]
    },
    {
      "cell_type": "code",
      "metadata": {
        "colab": {
          "base_uri": "https://localhost:8080/"
        },
        "id": "kZiwHhpTBhiF",
        "outputId": "ba8bc37e-c1b9-4ba3-e4ac-4d21859d391b"
      },
      "source": [
        "from tensorflow.keras.wrappers.scikit_learn import KerasClassifier\n",
        "from tensorflow.keras.callbacks import EarlyStopping\n",
        "from sklearn.model_selection import GridSearchCV\n",
        "\n",
        "def get_model(act='relu', opt='rmsprop'):\n",
        "  '''Returns a cnn model with parameters:\n",
        "      act = activation function to be evaluated for hidden/input layers\n",
        "      opt = optimzer to be evaluated '''\n",
        "  model = models.Sequential()\n",
        "  model.add(layers.Conv2D(32, (3, 3), activation=act, input_shape=(28, 28, 1)))\n",
        "  model.add(layers.MaxPooling2D((2, 2)))\n",
        "\n",
        "  model.add(layers.Conv2D(64, (3, 3), activation=act))\n",
        "  model.add(layers.MaxPooling2D((2, 2)))\n",
        "  \n",
        "  model.add(layers.Conv2D(64, (3, 3), activation=act))\n",
        "  model.add(layers.Flatten())\n",
        "  \n",
        "  model.add(layers.Dense(64, activation=act))\n",
        "  model.add(layers.Dense(10, activation='softmax'))\n",
        "\n",
        "  model.compile(optimizer=opt, \n",
        "              loss='categorical_crossentropy',\n",
        "              metrics=['accuracy'])\n",
        "  \n",
        "  return model\n",
        "\n",
        "#Set of parameters to evaluate, 3 activation functions and 3 optimizers\n",
        "params = {'act':  ['relu', 'tanh', 'linear'],\n",
        "          'opt' : ['rmsprop', 'adam', 'sgd']}\n",
        "\n",
        "#Uses Kerasclassifier wrapper to build a model object to fit to SKlearns GridSarchCV\n",
        "model = KerasClassifier(build_fn=get_model, epochs=5, batch_size=64,\n",
        "                        validation_split=0.2)\n",
        "\n",
        "\n",
        "grid = GridSearchCV(model, params, cv=3, n_jobs=1)\n",
        "results = grid.fit(train_images, train_labels)\n",
        "\n",
        "print(f'Optimal accuracy results: {results.best_score_} with parameters: {results.best_params_} ')\n",
        "\n",
        "#print the results of all tested optimizers and activation functions\n",
        "\n",
        "means = results.cv_results_['mean_test_score']\n",
        "params = results.cv_results_['params']"
      ],
      "execution_count": null,
      "outputs": [
        {
          "output_type": "stream",
          "text": [
            "Epoch 1/5\n",
            "500/500 [==============================] - 30s 58ms/step - loss: 0.5821 - accuracy: 0.8177 - val_loss: 0.0729 - val_accuracy: 0.9776\n",
            "Epoch 2/5\n",
            "500/500 [==============================] - 29s 58ms/step - loss: 0.0717 - accuracy: 0.9766 - val_loss: 0.0621 - val_accuracy: 0.9819\n",
            "Epoch 3/5\n",
            "500/500 [==============================] - 29s 58ms/step - loss: 0.0414 - accuracy: 0.9865 - val_loss: 0.0479 - val_accuracy: 0.9861\n",
            "Epoch 4/5\n",
            "500/500 [==============================] - 29s 58ms/step - loss: 0.0321 - accuracy: 0.9892 - val_loss: 0.0454 - val_accuracy: 0.9869\n",
            "Epoch 5/5\n",
            "500/500 [==============================] - 29s 58ms/step - loss: 0.0233 - accuracy: 0.9922 - val_loss: 0.0470 - val_accuracy: 0.9886\n",
            "313/313 [==============================] - 6s 18ms/step - loss: 0.0475 - accuracy: 0.9869\n",
            "Epoch 1/5\n",
            "500/500 [==============================] - 30s 58ms/step - loss: 0.5492 - accuracy: 0.8252 - val_loss: 0.0768 - val_accuracy: 0.9758\n",
            "Epoch 2/5\n",
            "500/500 [==============================] - 29s 59ms/step - loss: 0.0717 - accuracy: 0.9790 - val_loss: 0.0504 - val_accuracy: 0.9849\n",
            "Epoch 3/5\n",
            "500/500 [==============================] - 29s 59ms/step - loss: 0.0431 - accuracy: 0.9865 - val_loss: 0.0455 - val_accuracy: 0.9886\n",
            "Epoch 4/5\n",
            "500/500 [==============================] - 29s 59ms/step - loss: 0.0319 - accuracy: 0.9894 - val_loss: 0.0396 - val_accuracy: 0.9889\n",
            "Epoch 5/5\n",
            "500/500 [==============================] - 29s 59ms/step - loss: 0.0215 - accuracy: 0.9935 - val_loss: 0.0404 - val_accuracy: 0.9891\n",
            "313/313 [==============================] - 6s 17ms/step - loss: 0.0431 - accuracy: 0.9866\n",
            "Epoch 1/5\n",
            "500/500 [==============================] - 30s 59ms/step - loss: 0.5954 - accuracy: 0.8120 - val_loss: 0.0856 - val_accuracy: 0.9734\n",
            "Epoch 2/5\n",
            "500/500 [==============================] - 29s 58ms/step - loss: 0.0656 - accuracy: 0.9786 - val_loss: 0.0538 - val_accuracy: 0.9834\n",
            "Epoch 3/5\n",
            "500/500 [==============================] - 30s 59ms/step - loss: 0.0448 - accuracy: 0.9866 - val_loss: 0.0585 - val_accuracy: 0.9829\n",
            "Epoch 4/5\n",
            "500/500 [==============================] - 30s 59ms/step - loss: 0.0314 - accuracy: 0.9908 - val_loss: 0.0455 - val_accuracy: 0.9872\n",
            "Epoch 5/5\n",
            "500/500 [==============================] - 30s 59ms/step - loss: 0.0206 - accuracy: 0.9941 - val_loss: 0.0464 - val_accuracy: 0.9883\n",
            "313/313 [==============================] - 5s 17ms/step - loss: 0.0467 - accuracy: 0.9868\n",
            "Epoch 1/5\n",
            "500/500 [==============================] - 29s 58ms/step - loss: 0.6099 - accuracy: 0.8065 - val_loss: 0.0743 - val_accuracy: 0.9776\n",
            "Epoch 2/5\n",
            "500/500 [==============================] - 29s 58ms/step - loss: 0.0729 - accuracy: 0.9760 - val_loss: 0.0581 - val_accuracy: 0.9845\n",
            "Epoch 3/5\n",
            "500/500 [==============================] - 29s 58ms/step - loss: 0.0515 - accuracy: 0.9836 - val_loss: 0.0514 - val_accuracy: 0.9847\n",
            "Epoch 4/5\n",
            "500/500 [==============================] - 29s 57ms/step - loss: 0.0352 - accuracy: 0.9892 - val_loss: 0.0665 - val_accuracy: 0.9822\n",
            "Epoch 5/5\n",
            "500/500 [==============================] - 28s 56ms/step - loss: 0.0290 - accuracy: 0.9904 - val_loss: 0.0489 - val_accuracy: 0.9862\n",
            "313/313 [==============================] - 5s 16ms/step - loss: 0.0527 - accuracy: 0.9836\n",
            "Epoch 1/5\n",
            "500/500 [==============================] - 29s 57ms/step - loss: 0.6225 - accuracy: 0.8019 - val_loss: 0.0841 - val_accuracy: 0.9753\n",
            "Epoch 2/5\n",
            "500/500 [==============================] - 29s 57ms/step - loss: 0.0739 - accuracy: 0.9774 - val_loss: 0.0623 - val_accuracy: 0.9821\n",
            "Epoch 3/5\n",
            "500/500 [==============================] - 29s 57ms/step - loss: 0.0500 - accuracy: 0.9835 - val_loss: 0.0500 - val_accuracy: 0.9861\n",
            "Epoch 4/5\n",
            "500/500 [==============================] - 28s 57ms/step - loss: 0.0382 - accuracy: 0.9880 - val_loss: 0.0472 - val_accuracy: 0.9854\n",
            "Epoch 5/5\n",
            "500/500 [==============================] - 28s 57ms/step - loss: 0.0281 - accuracy: 0.9913 - val_loss: 0.0454 - val_accuracy: 0.9883\n",
            "313/313 [==============================] - 5s 16ms/step - loss: 0.0490 - accuracy: 0.9860\n",
            "Epoch 1/5\n",
            "500/500 [==============================] - 30s 60ms/step - loss: 0.5723 - accuracy: 0.8281 - val_loss: 0.0956 - val_accuracy: 0.9709\n",
            "Epoch 2/5\n",
            "500/500 [==============================] - 29s 58ms/step - loss: 0.0772 - accuracy: 0.9749 - val_loss: 0.0678 - val_accuracy: 0.9765\n",
            "Epoch 3/5\n",
            "500/500 [==============================] - 29s 58ms/step - loss: 0.0465 - accuracy: 0.9857 - val_loss: 0.0652 - val_accuracy: 0.9803\n",
            "Epoch 4/5\n",
            "500/500 [==============================] - 29s 58ms/step - loss: 0.0290 - accuracy: 0.9911 - val_loss: 0.0558 - val_accuracy: 0.9836\n",
            "Epoch 5/5\n",
            "500/500 [==============================] - 29s 58ms/step - loss: 0.0288 - accuracy: 0.9914 - val_loss: 0.0627 - val_accuracy: 0.9809\n",
            "313/313 [==============================] - 6s 17ms/step - loss: 0.0632 - accuracy: 0.9822\n",
            "Epoch 1/5\n",
            "500/500 [==============================] - 30s 58ms/step - loss: 2.0367 - accuracy: 0.3388 - val_loss: 0.3988 - val_accuracy: 0.8851\n",
            "Epoch 2/5\n",
            "500/500 [==============================] - 29s 58ms/step - loss: 0.4061 - accuracy: 0.8777 - val_loss: 0.2281 - val_accuracy: 0.9355\n",
            "Epoch 3/5\n",
            "500/500 [==============================] - 29s 58ms/step - loss: 0.2534 - accuracy: 0.9216 - val_loss: 0.1600 - val_accuracy: 0.9549\n",
            "Epoch 4/5\n",
            "500/500 [==============================] - 29s 57ms/step - loss: 0.1774 - accuracy: 0.9454 - val_loss: 0.1368 - val_accuracy: 0.9592\n",
            "Epoch 5/5\n",
            "500/500 [==============================] - 29s 58ms/step - loss: 0.1435 - accuracy: 0.9554 - val_loss: 0.1324 - val_accuracy: 0.9601\n",
            "313/313 [==============================] - 5s 16ms/step - loss: 0.1462 - accuracy: 0.9541\n",
            "Epoch 1/5\n",
            "500/500 [==============================] - 29s 56ms/step - loss: 1.8692 - accuracy: 0.4357 - val_loss: 0.3855 - val_accuracy: 0.8794\n",
            "Epoch 2/5\n",
            "500/500 [==============================] - 28s 56ms/step - loss: 0.3794 - accuracy: 0.8820 - val_loss: 0.2208 - val_accuracy: 0.9360\n",
            "Epoch 3/5\n",
            "500/500 [==============================] - 29s 57ms/step - loss: 0.2339 - accuracy: 0.9283 - val_loss: 0.1745 - val_accuracy: 0.9506\n",
            "Epoch 4/5\n",
            "500/500 [==============================] - 29s 57ms/step - loss: 0.1756 - accuracy: 0.9469 - val_loss: 0.1593 - val_accuracy: 0.9539\n",
            "Epoch 5/5\n",
            "500/500 [==============================] - 28s 56ms/step - loss: 0.1401 - accuracy: 0.9560 - val_loss: 0.1247 - val_accuracy: 0.9656\n",
            "313/313 [==============================] - 5s 16ms/step - loss: 0.1352 - accuracy: 0.9578\n",
            "Epoch 1/5\n",
            "500/500 [==============================] - 29s 57ms/step - loss: 1.9350 - accuracy: 0.3565 - val_loss: 0.4910 - val_accuracy: 0.8453\n",
            "Epoch 2/5\n",
            "500/500 [==============================] - 28s 57ms/step - loss: 0.4086 - accuracy: 0.8784 - val_loss: 0.2718 - val_accuracy: 0.9171\n",
            "Epoch 3/5\n",
            "500/500 [==============================] - 28s 57ms/step - loss: 0.2571 - accuracy: 0.9219 - val_loss: 0.1964 - val_accuracy: 0.9423\n",
            "Epoch 4/5\n",
            "500/500 [==============================] - 28s 56ms/step - loss: 0.1864 - accuracy: 0.9432 - val_loss: 0.1417 - val_accuracy: 0.9589\n",
            "Epoch 5/5\n",
            "500/500 [==============================] - 28s 56ms/step - loss: 0.1507 - accuracy: 0.9531 - val_loss: 0.1502 - val_accuracy: 0.9550\n",
            "313/313 [==============================] - 5s 17ms/step - loss: 0.1611 - accuracy: 0.9502\n",
            "Epoch 1/5\n",
            "500/500 [==============================] - 30s 59ms/step - loss: 0.4610 - accuracy: 0.8618 - val_loss: 0.0743 - val_accuracy: 0.9800\n",
            "Epoch 2/5\n",
            "500/500 [==============================] - 30s 59ms/step - loss: 0.0708 - accuracy: 0.9781 - val_loss: 0.0595 - val_accuracy: 0.9822\n",
            "Epoch 3/5\n",
            "500/500 [==============================] - 30s 59ms/step - loss: 0.0438 - accuracy: 0.9867 - val_loss: 0.0551 - val_accuracy: 0.9850\n",
            "Epoch 4/5\n",
            "500/500 [==============================] - 29s 59ms/step - loss: 0.0311 - accuracy: 0.9904 - val_loss: 0.0551 - val_accuracy: 0.9854\n",
            "Epoch 5/5\n",
            "500/500 [==============================] - 29s 59ms/step - loss: 0.0225 - accuracy: 0.9933 - val_loss: 0.0464 - val_accuracy: 0.9885\n",
            "313/313 [==============================] - 6s 18ms/step - loss: 0.0436 - accuracy: 0.9873\n",
            "Epoch 1/5\n",
            "500/500 [==============================] - 30s 59ms/step - loss: 0.4145 - accuracy: 0.8765 - val_loss: 0.0697 - val_accuracy: 0.9803\n",
            "Epoch 2/5\n",
            "500/500 [==============================] - 29s 59ms/step - loss: 0.0683 - accuracy: 0.9794 - val_loss: 0.0563 - val_accuracy: 0.9840\n",
            "Epoch 3/5\n",
            "500/500 [==============================] - 30s 59ms/step - loss: 0.0421 - accuracy: 0.9863 - val_loss: 0.0554 - val_accuracy: 0.9839\n",
            "Epoch 4/5\n",
            "500/500 [==============================] - 30s 59ms/step - loss: 0.0282 - accuracy: 0.9909 - val_loss: 0.0603 - val_accuracy: 0.9833\n",
            "Epoch 5/5\n",
            "500/500 [==============================] - 29s 58ms/step - loss: 0.0178 - accuracy: 0.9952 - val_loss: 0.0485 - val_accuracy: 0.9860\n",
            "313/313 [==============================] - 5s 17ms/step - loss: 0.0481 - accuracy: 0.9861\n",
            "Epoch 1/5\n",
            "500/500 [==============================] - 31s 60ms/step - loss: 0.4371 - accuracy: 0.8723 - val_loss: 0.0897 - val_accuracy: 0.9736\n",
            "Epoch 2/5\n",
            "500/500 [==============================] - 29s 59ms/step - loss: 0.0651 - accuracy: 0.9812 - val_loss: 0.0594 - val_accuracy: 0.9816\n",
            "Epoch 3/5\n",
            "500/500 [==============================] - 30s 59ms/step - loss: 0.0418 - accuracy: 0.9877 - val_loss: 0.0510 - val_accuracy: 0.9841\n",
            "Epoch 4/5\n",
            "500/500 [==============================] - 30s 60ms/step - loss: 0.0297 - accuracy: 0.9907 - val_loss: 0.0490 - val_accuracy: 0.9855\n",
            "Epoch 5/5\n",
            "500/500 [==============================] - 30s 60ms/step - loss: 0.0185 - accuracy: 0.9945 - val_loss: 0.0570 - val_accuracy: 0.9834\n",
            "313/313 [==============================] - 5s 17ms/step - loss: 0.0547 - accuracy: 0.9837\n",
            "Epoch 1/5\n",
            "500/500 [==============================] - 30s 59ms/step - loss: 0.5277 - accuracy: 0.8445 - val_loss: 0.0867 - val_accuracy: 0.9770\n",
            "Epoch 2/5\n",
            "500/500 [==============================] - 30s 59ms/step - loss: 0.0770 - accuracy: 0.9769 - val_loss: 0.0583 - val_accuracy: 0.9843\n",
            "Epoch 3/5\n",
            "500/500 [==============================] - 29s 59ms/step - loss: 0.0434 - accuracy: 0.9874 - val_loss: 0.0556 - val_accuracy: 0.9836\n",
            "Epoch 4/5\n",
            "500/500 [==============================] - 30s 60ms/step - loss: 0.0331 - accuracy: 0.9901 - val_loss: 0.0478 - val_accuracy: 0.9877\n",
            "Epoch 5/5\n",
            "500/500 [==============================] - 30s 60ms/step - loss: 0.0252 - accuracy: 0.9931 - val_loss: 0.0453 - val_accuracy: 0.9879\n",
            "313/313 [==============================] - 5s 17ms/step - loss: 0.0452 - accuracy: 0.9862\n",
            "Epoch 1/5\n",
            "500/500 [==============================] - 30s 59ms/step - loss: 0.5112 - accuracy: 0.8493 - val_loss: 0.0913 - val_accuracy: 0.9747\n",
            "Epoch 2/5\n",
            "500/500 [==============================] - 30s 59ms/step - loss: 0.0740 - accuracy: 0.9782 - val_loss: 0.0581 - val_accuracy: 0.9829\n",
            "Epoch 3/5\n",
            "500/500 [==============================] - 30s 59ms/step - loss: 0.0461 - accuracy: 0.9869 - val_loss: 0.0528 - val_accuracy: 0.9847\n",
            "Epoch 4/5\n",
            "500/500 [==============================] - 30s 59ms/step - loss: 0.0305 - accuracy: 0.9911 - val_loss: 0.0487 - val_accuracy: 0.9872\n",
            "Epoch 5/5\n",
            "500/500 [==============================] - 30s 61ms/step - loss: 0.0229 - accuracy: 0.9934 - val_loss: 0.0434 - val_accuracy: 0.9880\n",
            "313/313 [==============================] - 6s 18ms/step - loss: 0.0475 - accuracy: 0.9854\n",
            "Epoch 1/5\n",
            "500/500 [==============================] - 30s 59ms/step - loss: 0.5259 - accuracy: 0.8501 - val_loss: 0.0806 - val_accuracy: 0.9775\n",
            "Epoch 2/5\n",
            "500/500 [==============================] - 30s 59ms/step - loss: 0.0679 - accuracy: 0.9803 - val_loss: 0.0587 - val_accuracy: 0.9804\n",
            "Epoch 3/5\n",
            "500/500 [==============================] - 29s 59ms/step - loss: 0.0419 - accuracy: 0.9881 - val_loss: 0.0610 - val_accuracy: 0.9839\n",
            "Epoch 4/5\n",
            "500/500 [==============================] - 29s 59ms/step - loss: 0.0304 - accuracy: 0.9913 - val_loss: 0.0548 - val_accuracy: 0.9834\n",
            "Epoch 5/5\n",
            "500/500 [==============================] - 29s 59ms/step - loss: 0.0245 - accuracy: 0.9926 - val_loss: 0.0489 - val_accuracy: 0.9847\n",
            "313/313 [==============================] - 6s 19ms/step - loss: 0.0509 - accuracy: 0.9846\n",
            "Epoch 1/5\n",
            "500/500 [==============================] - 30s 59ms/step - loss: 1.6184 - accuracy: 0.5706 - val_loss: 0.4366 - val_accuracy: 0.8921\n",
            "Epoch 2/5\n",
            "500/500 [==============================] - 29s 58ms/step - loss: 0.4363 - accuracy: 0.8865 - val_loss: 0.2933 - val_accuracy: 0.9225\n",
            "Epoch 3/5\n",
            "500/500 [==============================] - 29s 59ms/step - loss: 0.3086 - accuracy: 0.9153 - val_loss: 0.2294 - val_accuracy: 0.9371\n",
            "Epoch 4/5\n",
            "500/500 [==============================] - 29s 58ms/step - loss: 0.2421 - accuracy: 0.9330 - val_loss: 0.1887 - val_accuracy: 0.9517\n",
            "Epoch 5/5\n",
            "500/500 [==============================] - 29s 58ms/step - loss: 0.2004 - accuracy: 0.9456 - val_loss: 0.1689 - val_accuracy: 0.9541\n",
            "313/313 [==============================] - 6s 17ms/step - loss: 0.1902 - accuracy: 0.9463\n",
            "Epoch 1/5\n",
            "500/500 [==============================] - 30s 60ms/step - loss: 1.6642 - accuracy: 0.5242 - val_loss: 0.4485 - val_accuracy: 0.8901\n",
            "Epoch 2/5\n",
            "500/500 [==============================] - 29s 59ms/step - loss: 0.4424 - accuracy: 0.8836 - val_loss: 0.3014 - val_accuracy: 0.9216\n",
            "Epoch 3/5\n",
            "500/500 [==============================] - 29s 59ms/step - loss: 0.3171 - accuracy: 0.9128 - val_loss: 0.2390 - val_accuracy: 0.9350\n",
            "Epoch 4/5\n",
            "500/500 [==============================] - 30s 60ms/step - loss: 0.2541 - accuracy: 0.9293 - val_loss: 0.2014 - val_accuracy: 0.9442\n",
            "Epoch 5/5\n",
            "500/500 [==============================] - 30s 60ms/step - loss: 0.2098 - accuracy: 0.9424 - val_loss: 0.1698 - val_accuracy: 0.9548\n",
            "313/313 [==============================] - 6s 17ms/step - loss: 0.1957 - accuracy: 0.9442\n",
            "Epoch 1/5\n",
            "500/500 [==============================] - 30s 60ms/step - loss: 1.6379 - accuracy: 0.5700 - val_loss: 0.5130 - val_accuracy: 0.8717\n",
            "Epoch 2/5\n",
            "500/500 [==============================] - 29s 59ms/step - loss: 0.4535 - accuracy: 0.8831 - val_loss: 0.3401 - val_accuracy: 0.9094\n",
            "Epoch 3/5\n",
            "500/500 [==============================] - 29s 59ms/step - loss: 0.3136 - accuracy: 0.9160 - val_loss: 0.2642 - val_accuracy: 0.9265\n",
            "Epoch 4/5\n",
            "500/500 [==============================] - 30s 59ms/step - loss: 0.2429 - accuracy: 0.9337 - val_loss: 0.2148 - val_accuracy: 0.9396\n",
            "Epoch 5/5\n",
            "500/500 [==============================] - 30s 60ms/step - loss: 0.2041 - accuracy: 0.9444 - val_loss: 0.1825 - val_accuracy: 0.9500\n",
            "313/313 [==============================] - 6s 17ms/step - loss: 0.1804 - accuracy: 0.9517\n",
            "Epoch 1/5\n",
            "500/500 [==============================] - 27s 53ms/step - loss: 0.4342 - accuracy: 0.8702 - val_loss: 0.1177 - val_accuracy: 0.9657\n",
            "Epoch 2/5\n",
            "500/500 [==============================] - 27s 54ms/step - loss: 0.0912 - accuracy: 0.9708 - val_loss: 0.0809 - val_accuracy: 0.9769\n",
            "Epoch 3/5\n",
            "500/500 [==============================] - 27s 53ms/step - loss: 0.0678 - accuracy: 0.9786 - val_loss: 0.0798 - val_accuracy: 0.9769\n",
            "Epoch 4/5\n",
            "500/500 [==============================] - 27s 53ms/step - loss: 0.0551 - accuracy: 0.9814 - val_loss: 0.0748 - val_accuracy: 0.9820\n",
            "Epoch 5/5\n",
            "500/500 [==============================] - 27s 53ms/step - loss: 0.0415 - accuracy: 0.9871 - val_loss: 0.0776 - val_accuracy: 0.9806\n",
            "313/313 [==============================] - 5s 16ms/step - loss: 0.0759 - accuracy: 0.9786\n",
            "Epoch 1/5\n",
            "500/500 [==============================] - 28s 55ms/step - loss: 0.4312 - accuracy: 0.8646 - val_loss: 0.1136 - val_accuracy: 0.9666\n",
            "Epoch 2/5\n",
            "500/500 [==============================] - 27s 54ms/step - loss: 0.0870 - accuracy: 0.9713 - val_loss: 0.0666 - val_accuracy: 0.9814\n",
            "Epoch 3/5\n",
            "500/500 [==============================] - 27s 54ms/step - loss: 0.0671 - accuracy: 0.9787 - val_loss: 0.0765 - val_accuracy: 0.9794\n",
            "Epoch 4/5\n",
            "500/500 [==============================] - 27s 54ms/step - loss: 0.0547 - accuracy: 0.9824 - val_loss: 0.0676 - val_accuracy: 0.9819\n",
            "Epoch 5/5\n",
            "500/500 [==============================] - 27s 54ms/step - loss: 0.0424 - accuracy: 0.9858 - val_loss: 0.0816 - val_accuracy: 0.9785\n",
            "313/313 [==============================] - 5s 17ms/step - loss: 0.0894 - accuracy: 0.9761\n",
            "Epoch 1/5\n",
            "500/500 [==============================] - 28s 54ms/step - loss: 0.4159 - accuracy: 0.8698 - val_loss: 0.1173 - val_accuracy: 0.9649\n",
            "Epoch 2/5\n",
            "500/500 [==============================] - 27s 53ms/step - loss: 0.0904 - accuracy: 0.9720 - val_loss: 0.0992 - val_accuracy: 0.9697\n",
            "Epoch 3/5\n",
            "500/500 [==============================] - 26s 52ms/step - loss: 0.0642 - accuracy: 0.9814 - val_loss: 0.0853 - val_accuracy: 0.9758\n",
            "Epoch 4/5\n",
            "500/500 [==============================] - 26s 52ms/step - loss: 0.0534 - accuracy: 0.9831 - val_loss: 0.0792 - val_accuracy: 0.9780\n",
            "Epoch 5/5\n",
            "500/500 [==============================] - 27s 53ms/step - loss: 0.0403 - accuracy: 0.9876 - val_loss: 0.0941 - val_accuracy: 0.9722\n",
            "313/313 [==============================] - 6s 17ms/step - loss: 0.0965 - accuracy: 0.9733\n",
            "Epoch 1/5\n",
            "500/500 [==============================] - 27s 53ms/step - loss: 0.4760 - accuracy: 0.8596 - val_loss: 0.1044 - val_accuracy: 0.9709\n",
            "Epoch 2/5\n",
            "500/500 [==============================] - 27s 53ms/step - loss: 0.0845 - accuracy: 0.9740 - val_loss: 0.0846 - val_accuracy: 0.9754\n",
            "Epoch 3/5\n",
            "500/500 [==============================] - 27s 53ms/step - loss: 0.0633 - accuracy: 0.9801 - val_loss: 0.0665 - val_accuracy: 0.9816\n",
            "Epoch 4/5\n",
            "500/500 [==============================] - 27s 54ms/step - loss: 0.0527 - accuracy: 0.9831 - val_loss: 0.0628 - val_accuracy: 0.9831\n",
            "Epoch 5/5\n",
            "500/500 [==============================] - 27s 54ms/step - loss: 0.0473 - accuracy: 0.9834 - val_loss: 0.0712 - val_accuracy: 0.9824\n",
            "313/313 [==============================] - 6s 17ms/step - loss: 0.0628 - accuracy: 0.9814\n",
            "Epoch 1/5\n",
            "500/500 [==============================] - 27s 52ms/step - loss: 0.4840 - accuracy: 0.8513 - val_loss: 0.1053 - val_accuracy: 0.9680\n",
            "Epoch 2/5\n",
            "500/500 [==============================] - 26s 52ms/step - loss: 0.0926 - accuracy: 0.9717 - val_loss: 0.0848 - val_accuracy: 0.9778\n",
            "Epoch 3/5\n",
            "500/500 [==============================] - 26s 53ms/step - loss: 0.0644 - accuracy: 0.9782 - val_loss: 0.0732 - val_accuracy: 0.9778\n",
            "Epoch 4/5\n",
            "500/500 [==============================] - 26s 52ms/step - loss: 0.0533 - accuracy: 0.9827 - val_loss: 0.0700 - val_accuracy: 0.9814\n",
            "Epoch 5/5\n",
            "500/500 [==============================] - 26s 53ms/step - loss: 0.0467 - accuracy: 0.9844 - val_loss: 0.0664 - val_accuracy: 0.9826\n",
            "313/313 [==============================] - 6s 18ms/step - loss: 0.0800 - accuracy: 0.9788\n",
            "Epoch 1/5\n",
            "500/500 [==============================] - 27s 52ms/step - loss: 0.4597 - accuracy: 0.8643 - val_loss: 0.0948 - val_accuracy: 0.9703\n",
            "Epoch 2/5\n",
            "500/500 [==============================] - 26s 52ms/step - loss: 0.0788 - accuracy: 0.9753 - val_loss: 0.0983 - val_accuracy: 0.9720\n",
            "Epoch 3/5\n",
            "500/500 [==============================] - 26s 52ms/step - loss: 0.0612 - accuracy: 0.9805 - val_loss: 0.0726 - val_accuracy: 0.9769\n",
            "Epoch 4/5\n",
            "500/500 [==============================] - 26s 52ms/step - loss: 0.0440 - accuracy: 0.9862 - val_loss: 0.0695 - val_accuracy: 0.9794\n",
            "Epoch 5/5\n",
            "500/500 [==============================] - 26s 52ms/step - loss: 0.0361 - accuracy: 0.9881 - val_loss: 0.0735 - val_accuracy: 0.9784\n",
            "313/313 [==============================] - 6s 18ms/step - loss: 0.0798 - accuracy: 0.9773\n",
            "Epoch 1/5\n",
            "500/500 [==============================] - 26s 52ms/step - loss: 1.3840 - accuracy: 0.5864 - val_loss: 0.3229 - val_accuracy: 0.9056\n",
            "Epoch 2/5\n",
            "394/500 [======================>.......] - ETA: 5s - loss: 0.3523 - accuracy: 0.8950"
          ],
          "name": "stdout"
        }
      ]
    },
    {
      "cell_type": "code",
      "metadata": {
        "id": "5hexZF2-BqJQ"
      },
      "source": [
        "print(f'Optimal accuracy results: {results.best_score_} with parameters: {results.best_params_} ')\n",
        "for x, y in zip(means,params):\n",
        "  print(f'{y} gave {x}')"
      ],
      "execution_count": null,
      "outputs": []
    }
  ]
}