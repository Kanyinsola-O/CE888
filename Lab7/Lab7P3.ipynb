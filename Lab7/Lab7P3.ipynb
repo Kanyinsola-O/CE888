{
  "nbformat": 4,
  "nbformat_minor": 0,
  "metadata": {
    "colab": {
      "name": "Lab7P3.ipynb",
      "provenance": [],
      "authorship_tag": "ABX9TyOXd+UEjw7QZPHOpAQfCJRb",
      "include_colab_link": true
    },
    "kernelspec": {
      "name": "python3",
      "display_name": "Python 3"
    },
    "language_info": {
      "name": "python"
    }
  },
  "cells": [
    {
      "cell_type": "markdown",
      "metadata": {
        "id": "view-in-github",
        "colab_type": "text"
      },
      "source": [
        "<a href=\"https://colab.research.google.com/github/Kanyinsola-O/CE888/blob/main/Lab7/Lab7P3.ipynb\" target=\"_parent\"><img src=\"https://colab.research.google.com/assets/colab-badge.svg\" alt=\"Open In Colab\"/></a>"
      ]
    },
    {
      "cell_type": "code",
      "metadata": {
        "id": "QqVCjGdiBup0"
      },
      "source": [
        "from keras import layers, models\n",
        "from keras.datasets import mnist\n",
        "from keras.utils import to_categorical\n",
        "from keras.preprocessing.text import Tokenizer\n",
        "from keras.datasets import imdb\n",
        "from keras.preprocessing import sequence\n",
        "from keras.layers import Dense\n",
        "from keras.layers import Embedding, SimpleRNN\n",
        "import numpy\n",
        "import math\n",
        "import matplotlib.pyplot as plt\n",
        "from pandas import read_csv\n",
        "from keras.models import Sequential\n",
        "from keras.layers import Dense\n",
        "from keras.layers import LSTM\n",
        "from sklearn.preprocessing import MinMaxScaler\n",
        "from sklearn.metrics import mean_squared_error\n",
        "from keras.callbacks import EarlyStopping"
      ],
      "execution_count": 1,
      "outputs": []
    },
    {
      "cell_type": "code",
      "metadata": {
        "id": "THOUo7EhCrE4"
      },
      "source": [
        "def create_dataset(dataset, look_back=1):\n",
        "\tdataX, dataY = [], []\n",
        "\tfor i in range(len(dataset)-look_back-1):\n",
        "\t\ta = dataset[i:(i+look_back), 0]\n",
        "\t\tdataX.append(a)\n",
        "\t\tdataY.append(dataset[i + look_back, 0])\n",
        "\treturn numpy.array(dataX), numpy.array(dataY)\n",
        "# fix random seed for reproducibility\n",
        "numpy.random.seed(7)\n",
        "# load the dataset\n",
        "dataframe = read_csv('https://raw.githubusercontent.com/jbrownlee/Datasets/master/airline-passengers.csv', usecols=[1], engine='python')\n",
        "dataset = dataframe.values\n",
        "dataset = dataset.astype('float32')\n",
        "# normalize the dataset\n",
        "scaler = MinMaxScaler(feature_range=(0, 1))\n",
        "dataset = scaler.fit_transform(dataset)"
      ],
      "execution_count": 2,
      "outputs": []
    },
    {
      "cell_type": "code",
      "metadata": {
        "id": "2G1lBZcgCzgB"
      },
      "source": [
        "train_size = int(len(dataset) * 0.30) #change size of train and test size it showed an improvement in the model, anything below 30 train size would diminish the models abilities\n",
        "test_size = len(dataset) - train_size\n",
        "train, test = dataset[0:train_size,:], dataset[train_size:len(dataset),:]\n",
        "# reshape into X=t and Y=t+1\n",
        "look_back = 1\n",
        "trainX, trainY = create_dataset(train, look_back)\n",
        "testX, testY = create_dataset(test, look_back)\n",
        "# reshape input to be [samples, time steps, features]\n",
        "trainX = numpy.reshape(trainX, (trainX.shape[0], 1, trainX.shape[1]))\n",
        "testX = numpy.reshape(testX, (testX.shape[0], 1, testX.shape[1]))"
      ],
      "execution_count": 3,
      "outputs": []
    },
    {
      "cell_type": "code",
      "metadata": {
        "colab": {
          "base_uri": "https://localhost:8080/"
        },
        "id": "lIxppY7cDYox",
        "outputId": "0fddba5a-cb18-43db-d318-7db658395fb9"
      },
      "source": [
        "callback = EarlyStopping(monitor='val_loss', patience=10, restore_best_weights=True) #Added callback to avoid overfitting\n",
        "# create and fit the LSTM network\n",
        "model = Sequential()\n",
        "model.add(LSTM(5, input_shape=(1, look_back))) #Five neurones performed better then 4\n",
        "model.add(Dense(1))\n",
        "model.compile(loss='mean_squared_error', optimizer='adam')\n",
        "mod = model.fit(trainX, trainY, epochs=100, batch_size=1, verbose=2, callbacks=callback, validation_data=(testX, testY)) #added validation to plot loss curve and address over or under fitting"
      ],
      "execution_count": 4,
      "outputs": [
        {
          "output_type": "stream",
          "text": [
            "Epoch 1/100\n",
            "41/41 - 2s - loss: 0.0086 - val_loss: 0.2157\n",
            "Epoch 2/100\n",
            "41/41 - 0s - loss: 0.0036 - val_loss: 0.1791\n",
            "Epoch 3/100\n",
            "41/41 - 0s - loss: 0.0029 - val_loss: 0.1657\n",
            "Epoch 4/100\n",
            "41/41 - 0s - loss: 0.0029 - val_loss: 0.1583\n",
            "Epoch 5/100\n",
            "41/41 - 0s - loss: 0.0028 - val_loss: 0.1529\n",
            "Epoch 6/100\n",
            "41/41 - 0s - loss: 0.0027 - val_loss: 0.1480\n",
            "Epoch 7/100\n",
            "41/41 - 0s - loss: 0.0027 - val_loss: 0.1446\n",
            "Epoch 8/100\n",
            "41/41 - 0s - loss: 0.0026 - val_loss: 0.1397\n",
            "Epoch 9/100\n",
            "41/41 - 0s - loss: 0.0025 - val_loss: 0.1287\n",
            "Epoch 10/100\n",
            "41/41 - 0s - loss: 0.0025 - val_loss: 0.1294\n",
            "Epoch 11/100\n",
            "41/41 - 0s - loss: 0.0024 - val_loss: 0.1227\n",
            "Epoch 12/100\n",
            "41/41 - 0s - loss: 0.0023 - val_loss: 0.1189\n",
            "Epoch 13/100\n",
            "41/41 - 0s - loss: 0.0023 - val_loss: 0.1119\n",
            "Epoch 14/100\n",
            "41/41 - 0s - loss: 0.0022 - val_loss: 0.1064\n",
            "Epoch 15/100\n",
            "41/41 - 0s - loss: 0.0021 - val_loss: 0.1029\n",
            "Epoch 16/100\n",
            "41/41 - 0s - loss: 0.0021 - val_loss: 0.0995\n",
            "Epoch 17/100\n",
            "41/41 - 0s - loss: 0.0020 - val_loss: 0.0923\n",
            "Epoch 18/100\n",
            "41/41 - 0s - loss: 0.0019 - val_loss: 0.0900\n",
            "Epoch 19/100\n",
            "41/41 - 0s - loss: 0.0020 - val_loss: 0.0827\n",
            "Epoch 20/100\n",
            "41/41 - 0s - loss: 0.0018 - val_loss: 0.0816\n",
            "Epoch 21/100\n",
            "41/41 - 0s - loss: 0.0018 - val_loss: 0.0776\n",
            "Epoch 22/100\n",
            "41/41 - 0s - loss: 0.0017 - val_loss: 0.0718\n",
            "Epoch 23/100\n",
            "41/41 - 0s - loss: 0.0017 - val_loss: 0.0656\n",
            "Epoch 24/100\n",
            "41/41 - 0s - loss: 0.0016 - val_loss: 0.0641\n",
            "Epoch 25/100\n",
            "41/41 - 0s - loss: 0.0016 - val_loss: 0.0582\n",
            "Epoch 26/100\n",
            "41/41 - 0s - loss: 0.0016 - val_loss: 0.0541\n",
            "Epoch 27/100\n",
            "41/41 - 0s - loss: 0.0015 - val_loss: 0.0526\n",
            "Epoch 28/100\n",
            "41/41 - 0s - loss: 0.0015 - val_loss: 0.0485\n",
            "Epoch 29/100\n",
            "41/41 - 0s - loss: 0.0014 - val_loss: 0.0445\n",
            "Epoch 30/100\n",
            "41/41 - 0s - loss: 0.0014 - val_loss: 0.0410\n",
            "Epoch 31/100\n",
            "41/41 - 0s - loss: 0.0014 - val_loss: 0.0382\n",
            "Epoch 32/100\n",
            "41/41 - 0s - loss: 0.0013 - val_loss: 0.0350\n",
            "Epoch 33/100\n",
            "41/41 - 0s - loss: 0.0012 - val_loss: 0.0345\n",
            "Epoch 34/100\n",
            "41/41 - 0s - loss: 0.0012 - val_loss: 0.0298\n",
            "Epoch 35/100\n",
            "41/41 - 0s - loss: 0.0012 - val_loss: 0.0266\n",
            "Epoch 36/100\n",
            "41/41 - 0s - loss: 0.0011 - val_loss: 0.0260\n",
            "Epoch 37/100\n",
            "41/41 - 0s - loss: 0.0011 - val_loss: 0.0241\n",
            "Epoch 38/100\n",
            "41/41 - 0s - loss: 0.0011 - val_loss: 0.0220\n",
            "Epoch 39/100\n",
            "41/41 - 0s - loss: 0.0011 - val_loss: 0.0184\n",
            "Epoch 40/100\n",
            "41/41 - 0s - loss: 0.0010 - val_loss: 0.0173\n",
            "Epoch 41/100\n",
            "41/41 - 0s - loss: 0.0010 - val_loss: 0.0168\n",
            "Epoch 42/100\n",
            "41/41 - 0s - loss: 0.0010 - val_loss: 0.0155\n",
            "Epoch 43/100\n",
            "41/41 - 0s - loss: 9.6179e-04 - val_loss: 0.0143\n",
            "Epoch 44/100\n",
            "41/41 - 0s - loss: 9.8101e-04 - val_loss: 0.0129\n",
            "Epoch 45/100\n",
            "41/41 - 0s - loss: 9.7283e-04 - val_loss: 0.0121\n",
            "Epoch 46/100\n",
            "41/41 - 0s - loss: 9.4381e-04 - val_loss: 0.0108\n",
            "Epoch 47/100\n",
            "41/41 - 0s - loss: 9.5860e-04 - val_loss: 0.0097\n",
            "Epoch 48/100\n",
            "41/41 - 0s - loss: 9.1880e-04 - val_loss: 0.0101\n",
            "Epoch 49/100\n",
            "41/41 - 0s - loss: 8.9205e-04 - val_loss: 0.0094\n",
            "Epoch 50/100\n",
            "41/41 - 0s - loss: 8.8186e-04 - val_loss: 0.0085\n",
            "Epoch 51/100\n",
            "41/41 - 0s - loss: 9.0021e-04 - val_loss: 0.0078\n",
            "Epoch 52/100\n",
            "41/41 - 0s - loss: 8.9122e-04 - val_loss: 0.0078\n",
            "Epoch 53/100\n",
            "41/41 - 0s - loss: 9.1023e-04 - val_loss: 0.0076\n",
            "Epoch 54/100\n",
            "41/41 - 0s - loss: 8.3996e-04 - val_loss: 0.0070\n",
            "Epoch 55/100\n",
            "41/41 - 0s - loss: 8.6564e-04 - val_loss: 0.0068\n",
            "Epoch 56/100\n",
            "41/41 - 0s - loss: 8.5643e-04 - val_loss: 0.0066\n",
            "Epoch 57/100\n",
            "41/41 - 0s - loss: 8.6090e-04 - val_loss: 0.0065\n",
            "Epoch 58/100\n",
            "41/41 - 0s - loss: 8.5689e-04 - val_loss: 0.0060\n",
            "Epoch 59/100\n",
            "41/41 - 0s - loss: 8.7778e-04 - val_loss: 0.0063\n",
            "Epoch 60/100\n",
            "41/41 - 0s - loss: 9.4063e-04 - val_loss: 0.0063\n",
            "Epoch 61/100\n",
            "41/41 - 0s - loss: 8.4249e-04 - val_loss: 0.0061\n",
            "Epoch 62/100\n",
            "41/41 - 0s - loss: 8.5440e-04 - val_loss: 0.0061\n",
            "Epoch 63/100\n",
            "41/41 - 0s - loss: 8.4646e-04 - val_loss: 0.0061\n",
            "Epoch 64/100\n",
            "41/41 - 0s - loss: 8.3316e-04 - val_loss: 0.0060\n",
            "Epoch 65/100\n",
            "41/41 - 0s - loss: 8.3176e-04 - val_loss: 0.0058\n",
            "Epoch 66/100\n",
            "41/41 - 0s - loss: 8.3632e-04 - val_loss: 0.0059\n",
            "Epoch 67/100\n",
            "41/41 - 0s - loss: 8.6339e-04 - val_loss: 0.0058\n",
            "Epoch 68/100\n",
            "41/41 - 0s - loss: 8.7678e-04 - val_loss: 0.0057\n",
            "Epoch 69/100\n",
            "41/41 - 0s - loss: 8.1731e-04 - val_loss: 0.0057\n",
            "Epoch 70/100\n",
            "41/41 - 0s - loss: 8.3516e-04 - val_loss: 0.0059\n",
            "Epoch 71/100\n",
            "41/41 - 0s - loss: 8.4218e-04 - val_loss: 0.0057\n",
            "Epoch 72/100\n",
            "41/41 - 0s - loss: 8.2956e-04 - val_loss: 0.0058\n",
            "Epoch 73/100\n",
            "41/41 - 0s - loss: 8.4548e-04 - val_loss: 0.0056\n",
            "Epoch 74/100\n",
            "41/41 - 0s - loss: 8.3944e-04 - val_loss: 0.0057\n",
            "Epoch 75/100\n",
            "41/41 - 0s - loss: 8.2564e-04 - val_loss: 0.0057\n",
            "Epoch 76/100\n",
            "41/41 - 0s - loss: 8.5237e-04 - val_loss: 0.0058\n",
            "Epoch 77/100\n",
            "41/41 - 0s - loss: 8.3388e-04 - val_loss: 0.0057\n",
            "Epoch 78/100\n",
            "41/41 - 0s - loss: 8.3101e-04 - val_loss: 0.0057\n",
            "Epoch 79/100\n",
            "41/41 - 0s - loss: 8.2433e-04 - val_loss: 0.0057\n",
            "Epoch 80/100\n",
            "41/41 - 0s - loss: 8.3279e-04 - val_loss: 0.0057\n",
            "Epoch 81/100\n",
            "41/41 - 0s - loss: 8.2905e-04 - val_loss: 0.0057\n",
            "Epoch 82/100\n",
            "41/41 - 0s - loss: 8.5644e-04 - val_loss: 0.0057\n",
            "Epoch 83/100\n",
            "41/41 - 0s - loss: 8.6785e-04 - val_loss: 0.0057\n"
          ],
          "name": "stdout"
        }
      ]
    },
    {
      "cell_type": "code",
      "metadata": {
        "colab": {
          "base_uri": "https://localhost:8080/"
        },
        "id": "zCad3cFyDe1g",
        "outputId": "10795745-3c85-442b-8296-8f74ec96f842"
      },
      "source": [
        "# make predictions\n",
        "trainPredict = model.predict(trainX)\n",
        "testPredict = model.predict(testX)\n",
        "# invert predictions\n",
        "trainPredict = scaler.inverse_transform(trainPredict)\n",
        "trainY = scaler.inverse_transform([trainY])\n",
        "testPredict = scaler.inverse_transform(testPredict)\n",
        "testY = scaler.inverse_transform([testY])\n",
        "# calculate root mean squared error\n",
        "trainScore = math.sqrt(mean_squared_error(trainY[0], trainPredict[:,0]))\n",
        "print('Train Score: %.2f RMSE' % (trainScore))\n",
        "testScore = math.sqrt(mean_squared_error(testY[0], testPredict[:,0]))\n",
        "print('Test Score: %.2f RMSE' % (testScore))"
      ],
      "execution_count": 5,
      "outputs": [
        {
          "output_type": "stream",
          "text": [
            "Train Score: 14.82 RMSE\n",
            "Test Score: 38.91 RMSE\n"
          ],
          "name": "stdout"
        }
      ]
    },
    {
      "cell_type": "code",
      "metadata": {
        "colab": {
          "base_uri": "https://localhost:8080/",
          "height": 265
        },
        "id": "7cm86tt9Dg1D",
        "outputId": "ffced026-208c-4638-a86d-644603419c59"
      },
      "source": [
        "# shift train predictions for plotting\n",
        "trainPredictPlot = numpy.empty_like(dataset)\n",
        "trainPredictPlot[:, :] = numpy.nan\n",
        "trainPredictPlot[look_back:len(trainPredict)+look_back, :] = trainPredict\n",
        "# shift test predictions for plotting\n",
        "testPredictPlot = numpy.empty_like(dataset)\n",
        "testPredictPlot[:, :] = numpy.nan\n",
        "testPredictPlot[len(trainPredict)+(look_back*2)+1:len(dataset)-1, :] = testPredict\n",
        "# plot baseline and predictions\n",
        "plt.plot(scaler.inverse_transform(dataset))\n",
        "plt.plot(trainPredictPlot)\n",
        "plt.plot(testPredictPlot)\n",
        "plt.show()"
      ],
      "execution_count": 6,
      "outputs": [
        {
          "output_type": "display_data",
          "data": {
            "image/png": "[encoded data removed]",
            "text/plain": [
              "<Figure size 432x288 with 1 Axes>"
            ]
          },
          "metadata": {
            "tags": [],
            "needs_background": "light"
          }
        }
      ]
    },
    {
      "cell_type": "code",
      "metadata": {
        "colab": {
          "base_uri": "https://localhost:8080/",
          "height": 295
        },
        "id": "iFTA9UuGDlni",
        "outputId": "f6da735c-2a83-46f1-ddcb-be13ef0c0db1"
      },
      "source": [
        "def plot_curve(metric, save=False, saveas='test'):\n",
        "    '''Plots the learning curve for the model\n",
        "    based on history, metric takes any acceptable metric\n",
        "    by the model e.g. Loss, if save is set to true\n",
        "    saves a copy of the graph under the name specified\n",
        "    in saveas by default is test'''\n",
        "    plt.plot(mod.history[metric], label=f'{metric} in training set')\n",
        "    plt.plot(mod.history[f'val_{metric}'],\n",
        "             label=f'{metric} in validation set')\n",
        "    plt.title(metric)\n",
        "    plt.ylabel('Value')\n",
        "    plt.xlabel('Epoch')\n",
        "    plt.legend()\n",
        "    if save:\n",
        "        plt.savefig(f'{saveas}')\n",
        "    plt.show()\n",
        "plot_curve('loss')"
      ],
      "execution_count": 7,
      "outputs": [
        {
          "output_type": "display_data",
          "data": {
            "image/png": "[encoded data removed]",
            "text/plain": [
              "<Figure size 432x288 with 1 Axes>"
            ]
          },
          "metadata": {
            "tags": [],
            "needs_background": "light"
          }
        }
      ]
    },
    {
      "cell_type": "code",
      "metadata": {
        "colab": {
          "base_uri": "https://localhost:8080/"
        },
        "id": "golc8KevDqni",
        "outputId": "0ed31697-da4f-42f1-811f-249ee2b31080"
      },
      "source": [
        "def create_dataset(dataset, look_back=1):\n",
        "\tdataX, dataY = [], []\n",
        "\tfor i in range(len(dataset)-look_back-1):\n",
        "\t\ta = dataset[i:(i+look_back), 0]\n",
        "\t\tdataX.append(a)\n",
        "\t\tdataY.append(dataset[i + look_back, 0])\n",
        "\treturn numpy.array(dataX), numpy.array(dataY)\n",
        "# fix random seed for reproducibility\n",
        "numpy.random.seed(7)\n",
        "# load the dataset\n",
        "dataframe = read_csv('https://raw.githubusercontent.com/jbrownlee/Datasets/master/airline-passengers.csv', usecols=[1], engine='python')\n",
        "dataset = dataframe.values\n",
        "dataset = dataset.astype('float32')\n",
        "# normalize the dataset\n",
        "scaler = MinMaxScaler(feature_range=(0, 1))\n",
        "dataset = scaler.fit_transform(dataset)\n",
        "train_size = int(len(dataset) * 0.70) \n",
        "test_size = len(dataset) - train_size\n",
        "train, test = dataset[0:train_size,:], dataset[train_size:len(dataset),:]\n",
        "# reshape into X=t and Y=t+1\n",
        "look_back = 40 #changed lookback to 40 to see effec it has\n",
        "trainX, trainY = create_dataset(train, look_back)\n",
        "testX, testY = create_dataset(test, look_back)\n",
        "# reshape input to be [samples, time steps, features]\n",
        "trainX = numpy.reshape(trainX, (trainX.shape[0], 1, trainX.shape[1]))\n",
        "testX = numpy.reshape(testX, (testX.shape[0], 1, testX.shape[1]))\n",
        "callback = EarlyStopping(monitor='val_loss', patience=10, restore_best_weights=True) #Added callback to avoid overfitting\n",
        "# create and fit the LSTM network\n",
        "model = Sequential()\n",
        "model.add(LSTM(4, input_shape=(1, look_back))) \n",
        "model.add(Dense(1)) #increase numbered of neurons in dense layer\n",
        "model.compile(loss='mean_squared_error', optimizer='adam')\n",
        "mod = model.fit(trainX, trainY, epochs=100, batch_size=1, verbose=2, callbacks=callback, validation_data=(testX, testY)) #added validation to plot loss curve and address over or under fitting"
      ],
      "execution_count": 8,
      "outputs": [
        {
          "output_type": "stream",
          "text": [
            "Epoch 1/100\n",
            "59/59 - 2s - loss: 0.0296 - val_loss: 0.0391\n",
            "Epoch 2/100\n",
            "59/59 - 0s - loss: 0.0053 - val_loss: 0.0257\n",
            "Epoch 3/100\n",
            "59/59 - 0s - loss: 0.0049 - val_loss: 0.0134\n",
            "Epoch 4/100\n",
            "59/59 - 0s - loss: 0.0047 - val_loss: 0.0134\n",
            "Epoch 5/100\n",
            "59/59 - 0s - loss: 0.0041 - val_loss: 0.0109\n",
            "Epoch 6/100\n",
            "59/59 - 0s - loss: 0.0040 - val_loss: 0.0086\n",
            "Epoch 7/100\n",
            "59/59 - 0s - loss: 0.0036 - val_loss: 0.0048\n",
            "Epoch 8/100\n",
            "59/59 - 0s - loss: 0.0032 - val_loss: 0.0039\n",
            "Epoch 9/100\n",
            "59/59 - 0s - loss: 0.0031 - val_loss: 0.0042\n",
            "Epoch 10/100\n",
            "59/59 - 0s - loss: 0.0027 - val_loss: 0.0023\n",
            "Epoch 11/100\n",
            "59/59 - 0s - loss: 0.0025 - val_loss: 0.0023\n",
            "Epoch 12/100\n",
            "59/59 - 0s - loss: 0.0024 - val_loss: 0.0027\n",
            "Epoch 13/100\n",
            "59/59 - 0s - loss: 0.0021 - val_loss: 0.0025\n",
            "Epoch 14/100\n",
            "59/59 - 0s - loss: 0.0019 - val_loss: 0.0037\n",
            "Epoch 15/100\n",
            "59/59 - 0s - loss: 0.0018 - val_loss: 0.0022\n",
            "Epoch 16/100\n",
            "59/59 - 0s - loss: 0.0017 - val_loss: 0.0085\n",
            "Epoch 17/100\n",
            "59/59 - 0s - loss: 0.0017 - val_loss: 0.0057\n",
            "Epoch 18/100\n",
            "59/59 - 0s - loss: 0.0015 - val_loss: 0.0062\n",
            "Epoch 19/100\n",
            "59/59 - 0s - loss: 0.0014 - val_loss: 0.0032\n",
            "Epoch 20/100\n",
            "59/59 - 0s - loss: 0.0015 - val_loss: 0.0034\n",
            "Epoch 21/100\n",
            "59/59 - 0s - loss: 0.0013 - val_loss: 0.0038\n",
            "Epoch 22/100\n",
            "59/59 - 0s - loss: 0.0011 - val_loss: 0.0118\n",
            "Epoch 23/100\n",
            "59/59 - 0s - loss: 0.0013 - val_loss: 0.0049\n",
            "Epoch 24/100\n",
            "59/59 - 0s - loss: 0.0012 - val_loss: 0.0054\n",
            "Epoch 25/100\n",
            "59/59 - 0s - loss: 0.0011 - val_loss: 0.0024\n"
          ],
          "name": "stdout"
        }
      ]
    },
    {
      "cell_type": "code",
      "metadata": {
        "colab": {
          "base_uri": "https://localhost:8080/",
          "height": 295
        },
        "id": "nSzhw2KxD2nq",
        "outputId": "32f49442-22e8-4994-a454-90678ad81602"
      },
      "source": [
        "plot_curve('loss')\n"
      ],
      "execution_count": 9,
      "outputs": [
        {
          "output_type": "display_data",
          "data": {
            "image/png": "[encoded data removed]",
            "text/plain": [
              "<Figure size 432x288 with 1 Axes>"
            ]
          },
          "metadata": {
            "tags": [],
            "needs_background": "light"
          }
        }
      ]
    },
    {
      "cell_type": "code",
      "metadata": {
        "colab": {
          "base_uri": "https://localhost:8080/"
        },
        "id": "G_06kwU8D4qB",
        "outputId": "8c3604f8-e65a-4516-ed1c-780d232311c6"
      },
      "source": [
        "# make predictions\n",
        "trainPredict = model.predict(trainX)\n",
        "testPredict = model.predict(testX)\n",
        "# invert predictions\n",
        "trainPredict = scaler.inverse_transform(trainPredict)\n",
        "trainY = scaler.inverse_transform([trainY])\n",
        "testPredict = scaler.inverse_transform(testPredict)\n",
        "testY = scaler.inverse_transform([testY])\n",
        "# calculate root mean squared error\n",
        "trainScore = math.sqrt(mean_squared_error(trainY[0], trainPredict[:,0]))\n",
        "print('Train Score: %.2f RMSE' % (trainScore))\n",
        "testScore = math.sqrt(mean_squared_error(testY[0], testPredict[:,0]))\n",
        "print('Test Score: %.2f RMSE' % (testScore))"
      ],
      "execution_count": 10,
      "outputs": [
        {
          "output_type": "stream",
          "text": [
            "Train Score: 20.89 RMSE\n",
            "Test Score: 24.39 RMSE\n"
          ],
          "name": "stdout"
        }
      ]
    },
    {
      "cell_type": "code",
      "metadata": {
        "colab": {
          "base_uri": "https://localhost:8080/",
          "height": 265
        },
        "id": "MBYreVLsD9oD",
        "outputId": "a6d34577-52d7-482f-bef4-e31c847a8a05"
      },
      "source": [
        "# shift train predictions for plotting\n",
        "trainPredictPlot = numpy.empty_like(dataset)\n",
        "trainPredictPlot[:, :] = numpy.nan\n",
        "trainPredictPlot[look_back:len(trainPredict)+look_back, :] = trainPredict\n",
        "# shift test predictions for plotting\n",
        "testPredictPlot = numpy.empty_like(dataset)\n",
        "testPredictPlot[:, :] = numpy.nan\n",
        "testPredictPlot[len(trainPredict)+(look_back*2)+1:len(dataset)-1, :] = testPredict\n",
        "# plot baseline and predictions\n",
        "plt.plot(scaler.inverse_transform(dataset))\n",
        "plt.plot(trainPredictPlot)\n",
        "plt.plot(testPredictPlot)\n",
        "plt.show()"
      ],
      "execution_count": 11,
      "outputs": [
        {
          "output_type": "display_data",
          "data": {
            "image/png": "[encoded data removed]",
            "text/plain": [
              "<Figure size 432x288 with 1 Axes>"
            ]
          },
          "metadata": {
            "tags": [],
            "needs_background": "light"
          }
        }
      ]
    },
    {
      "cell_type": "code",
      "metadata": {
        "id": "-pw9ymyHERt2"
      },
      "source": [
        ""
      ],
      "execution_count": null,
      "outputs": []
    }
  ]
}