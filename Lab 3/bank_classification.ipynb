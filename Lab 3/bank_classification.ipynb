{
  "nbformat": 4,
  "nbformat_minor": 0,
  "metadata": {
    "colab": {
      "name": "bank_classification.ipynb",
      "provenance": [],
      "collapsed_sections": [],
      "authorship_tag": "ABX9TyOFTcz5RSXYSCl7WuOdlnZC",
      "include_colab_link": true
    },
    "kernelspec": {
      "name": "python3",
      "display_name": "Python 3"
    }
  },
  "cells": [
    {
      "cell_type": "markdown",
      "metadata": {
        "id": "view-in-github",
        "colab_type": "text"
      },
      "source": [
        "<a href=\"https://colab.research.google.com/github/Kanyinsola-O/CE888/blob/main/Lab%203/bank_classification.ipynb\" target=\"_parent\"><img src=\"https://colab.research.google.com/assets/colab-badge.svg\" alt=\"Open In Colab\"/></a>"
      ]
    },
    {
      "cell_type": "code",
      "metadata": {
        "id": "3ZwU4NB1FbGf"
      },
      "source": [
        "%matplotlib inline\r\n",
        "import matplotlib\r\n",
        "import numpy as np\r\n",
        "import matplotlib.pyplot as plt\r\n",
        "import pandas as pd\r\n",
        "import seaborn as sns\r\n",
        "\r\n",
        "from sklearn.tree import DecisionTreeRegressor\r\n",
        "from sklearn.ensemble import RandomForestRegressor, GradientBoostingRegressor\r\n",
        "from sklearn.linear_model import SGDRegressor, BayesianRidge\r\n",
        "from sklearn.model_selection import cross_val_score\r\n",
        "from sklearn.metrics import mean_squared_error as mse\r\n",
        "from sklearn.metrics import mean_absolute_error as mae\r\n",
        "from sklearn.metrics import accuracy_score as acc\r\n",
        "from sklearn.metrics import make_scorer\r\n",
        "from sklearn.dummy import DummyRegressor, DummyClassifier\r\n",
        "from sklearn.preprocessing import LabelEncoder"
      ],
      "execution_count": 4,
      "outputs": []
    },
    {
      "cell_type": "code",
      "metadata": {
        "id": "W9yai4HKGipD"
      },
      "source": [
        "df=pd.read_csv(\"https://github.com/albanda/CE888/blob/master/lab3/bank-additional-full.csv\", delimiter=\";\" )\r\n",
        "print(df)"
      ],
      "execution_count": null,
      "outputs": []
    },
    {
      "cell_type": "code",
      "metadata": {
        "id": "aWGE2jfeJSZp"
      },
      "source": [
        "print(df.columns)\r\n",
        "features = []\r\n",
        "\r\n",
        "print (df[features].head())"
      ],
      "execution_count": 11,
      "outputs": []
    },
    {
      "cell_type": "code",
      "metadata": {
        "id": "i9NqCgaNO4a6"
      },
      "source": [
        "print(\"Number of rows before dropping NaNs: %d\" % len(df))\r\n",
        "df = df.dropna()\r\n",
        "print(\"Number of rows after dropping NaNs: %d\" % len(df))"
      ],
      "execution_count": null,
      "outputs": []
    },
    {
      "cell_type": "code",
      "metadata": {
        "id": "sOGunw31PFXE"
      },
      "source": [
        "outcomes= []\r\n",
        "\r\n",
        "\r\n",
        "df[outcomes].head()"
      ],
      "execution_count": null,
      "outputs": []
    },
    {
      "cell_type": "code",
      "metadata": {
        "id": "E6-CeSH7P5vR"
      },
      "source": [
        "\r\n",
        "df[[\"Type\"]] = df[[\"Type\"]].apply(LabelEncoder().fit_transform)\r\n",
        "\r\n",
        "df.head()"
      ],
      "execution_count": null,
      "outputs": []
    },
    {
      "cell_type": "code",
      "metadata": {
        "id": "1RiJ_ie3QUxO"
      },
      "source": [
        "#df = df[df.apply(lambda x: np.abs(x - x.mean()) / x.std() < 3).all(axis=1)]\r\n",
        "\r\n",
        "outcomes_of_interest = []\r\n",
        "\r\n",
        "X_df = df[features].copy()\r\n",
        "y_df = df[outcomes_of_interest].copy()\r\n",
        "\r\n",
        "cat_features = []\r\n",
        "#print(X_df.head())\r\n",
        "#print(set(X_df[\"Category\"]))\r\n",
        "#print(pd.get_dummies(X_df, columns=[\"Category\"]).head())\r\n",
        "\r\n",
        "X_df = pd.get_dummies(X_df, columns=cat_features)\r\n",
        "\r\n",
        "print(X_df.head()[[]].to_latex())"
      ],
      "execution_count": null,
      "outputs": []
    },
    {
      "cell_type": "code",
      "metadata": {
        "id": "oT00LuyRRKJ1"
      },
      "source": [
        "y_df[''] = range(1, len(df) + 1)  # add a column\r\n",
        "sns_plot = sns.lmplot(x=\"\", y=\"\", data=y_df, fit_reg=False, aspect=2)\r\n",
        "\r\n",
        "# sns_plot.savefig(\"scaterplot_lpc.pdf\", bbox_inches='tight')"
      ],
      "execution_count": null,
      "outputs": []
    },
    {
      "cell_type": "code",
      "metadata": {
        "id": "W58yKLYVRXpC"
      },
      "source": [
        "sns_plot = sns.jointplot(x=\"\", y=\"\", data=y_df, ratio = 2)"
      ],
      "execution_count": null,
      "outputs": []
    },
    {
      "cell_type": "code",
      "metadata": {
        "id": "LqESU8cuSuWy"
      },
      "source": [
        "X = X_df.values\r\n",
        "y = y_df.values.T[0]\r\n",
        "y = (y - y.min())/(y.max() - y.min())  # standardise the target variable"
      ],
      "execution_count": null,
      "outputs": []
    },
    {
      "cell_type": "code",
      "metadata": {
        "id": "2rZ3zyuJTZ-Z"
      },
      "source": [
        "sns_plot = sns.histplot(y, kde=False)\r\n",
        "# sns_plot.savefig(\"histogram_lpc.pdf\",bbox_inches='tight')"
      ],
      "execution_count": null,
      "outputs": []
    },
    {
      "cell_type": "code",
      "metadata": {
        "id": "OWVHH4vPT3Kl"
      },
      "source": [
        "clf = DecisionTreeRegressor()\r\n",
        "clf.fit(X, y)\r\n",
        "print(\"MSE of the model = %1.4g\" % mse(y, clf.predict(X)))"
      ],
      "execution_count": null,
      "outputs": []
    },
    {
      "cell_type": "code",
      "metadata": {
        "id": "KVAeDS6iT7wt"
      },
      "source": [
        "n_test = 100\r\n",
        "n_repeat = 1000\r\n",
        "\r\n",
        "estimator = DecisionTreeRegressor()\r\n",
        "#estimator = RandomForestRegressor()\r\n",
        "\r\n",
        "# Compute predictions\r\n",
        "y_predicts = np.ones((n_repeat, len(X))) * np.nan\r\n",
        "\r\n",
        "for i in range(n_repeat):\r\n",
        "    sample  = np.random.choice(range(len(X)), replace=True, size=len(X))  # bootstrap!\r\n",
        "    train_ids = sample[:-n_test]\r\n",
        "    test_ids  = sample[-n_test:]\r\n",
        "    test_ids = np.setdiff1d(test_ids, train_ids)  # only use those that weren't in the training set for testing\r\n",
        "    if len(test_ids) == 0:\r\n",
        "        continue\r\n",
        "    X_train, y_train = X[train_ids], y[train_ids]\r\n",
        "    X_test, y_test = X[test_ids], y[test_ids]\r\n",
        "    \r\n",
        "    estimator.fit(X_train, y_train)\r\n",
        "    y_predict = estimator.predict(X_test)\r\n",
        "    y_predicts[i, test_ids] = y_predict"
      ],
      "execution_count": null,
      "outputs": []
    },
    {
      "cell_type": "code",
      "metadata": {
        "id": "M6y7cQ-SVApf"
      },
      "source": [
        "y_bias = (y - np.nanmean(y_predicts, axis=0)) **2\r\n",
        "y_error = np.nanmean((y - y_predicts) **2, axis=0)#.mean()\r\n",
        "y_var = np.nanvar(y_predicts, axis=0, ddof = 1)\r\n",
        "\r\n",
        "print(np.nanmean(y_bias) +  np.nanmean(y_var))\r\n",
        "\r\n",
        "clf_type = \"Decision tree\"\r\n",
        "print(\"{0}: {1:.4f} (error) = {2:.4f} (bias^2) \"\r\n",
        "          \"+ {3:.4f} (var)\".format(clf_type, np.nanmean(y_error), np.nanmean(y_bias), np.nanmean(y_var)))\r\n",
        "\r\n",
        "print(\"{0}: {1:.4f} ((bias^2) + (var)) = {2:.4f} (bias^2) \"\r\n",
        "          \"+ {3:.4f} (var)\".format(clf_type, np.mean(y_bias) + np.mean(y_var), np.mean(y_bias), np.mean(y_var)))"
      ],
      "execution_count": null,
      "outputs": []
    },
    {
      "cell_type": "code",
      "metadata": {
        "id": "PjIcwURBV_st"
      },
      "source": [
        "#clf = RandomForestRegressor(n_estimators=1000,max_depth=2)\r\n",
        "clf = BayesianRidge(normalize=True)\r\n",
        "scores = cross_val_score(clf, X, y, cv=10, scoring = make_scorer(mse))\r\n",
        "\r\n",
        "dummy_clf = DummyRegressor(strategy='mean')\r\n",
        "dummy_scores = cross_val_score(dummy_clf, X, y, cv=10, scoring = make_scorer(mse))\r\n",
        "\r\n",
        "print(\"MSE: %0.8f +/- %0.8f\" % (scores.mean(), scores.std()))\r\n",
        "print(\"Dummy MSE: %0.8f +/- %0.8f\" % (dummy_scores.mean(), dummy_scores.std()))\r\n"
      ],
      "execution_count": null,
      "outputs": []
    }
  ]
}