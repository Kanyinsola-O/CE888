{
  "nbformat": 4,
  "nbformat_minor": 0,
  "metadata": {
    "colab": {
      "name": "Racial_bias_in_police.ipynb",
      "provenance": [],
      "authorship_tag": "ABX9TyPTd6jP8BndN2114zzCopvn",
      "include_colab_link": true
    },
    "kernelspec": {
      "name": "python3",
      "display_name": "Python 3"
    }
  },
  "cells": [
    {
      "cell_type": "markdown",
      "metadata": {
        "id": "view-in-github",
        "colab_type": "text"
      },
      "source": [
        "<a href=\"https://colab.research.google.com/github/Kanyinsola-O/CE888/blob/main/Assignment/Racial_bias_in_police.ipynb\" target=\"_parent\"><img src=\"https://colab.research.google.com/assets/colab-badge.svg\" alt=\"Open In Colab\"/></a>"
      ]
    },
    {
      "cell_type": "code",
      "metadata": {
        "id": "_yWUu3DUOsEE"
      },
      "source": [
        "#Importing the correct libraries \r\n",
        "import matplotlib\r\n",
        "import matplotlib.pyplot as plt\r\n",
        "%matplotlib inline\r\n",
        "import seaborn as sns\r\n",
        "import pandas as pd\r\n",
        "import numpy as np\r\n",
        "import folium\r\n",
        "import requests\r\n",
        "import csv\r\n",
        "import os\r\n"
      ],
      "execution_count": null,
      "outputs": []
    },
    {
      "cell_type": "code",
      "metadata": {
        "id": "NwTNvhG5N_nd"
      },
      "source": [
        "#Loading the data repeat 3 times \r\n",
        "\r\n",
        "df = pd.read_csv(path_data)\r\n",
        "df.head()"
      ],
      "execution_count": null,
      "outputs": []
    },
    {
      "cell_type": "code",
      "metadata": {
        "id": "GkdwfzXbOPog"
      },
      "source": [
        "#Pre-processing the data\r\n",
        "\r\n",
        "#Feature selection\r\n",
        "\r\n",
        "drop.na\r\n",
        "drop.columns ()\r\n",
        "\r\n",
        "#Feature extraction \r\n",
        "\r\n",
        "df.describe(include='all')"
      ],
      "execution_count": null,
      "outputs": []
    },
    {
      "cell_type": "code",
      "metadata": {
        "id": "TfAHPZG6OTjN"
      },
      "source": [
        "#Data exploration PCA "
      ],
      "execution_count": null,
      "outputs": []
    },
    {
      "cell_type": "code",
      "metadata": {
        "id": "1ve9hL_WOOXx"
      },
      "source": [
        "#Prejudice Remover\r\n"
      ],
      "execution_count": null,
      "outputs": []
    },
    {
      "cell_type": "code",
      "metadata": {
        "id": "c5Esvp0eOYlB"
      },
      "source": [
        "#Performing PCA \r\n",
        "import matplotlib.pyplot as plt \r\n",
        "from sklearn import cluster, datasets, metrics\r\n",
        "\r\n"
      ],
      "execution_count": null,
      "outputs": []
    }
  ]
}